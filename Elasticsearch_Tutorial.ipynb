{
 "cells": [
  {
   "cell_type": "code",
   "execution_count": 35,
   "id": "68831694",
   "metadata": {},
   "outputs": [],
   "source": [
    "from elasticsearch import Elasticsearch\n",
    "import pickle"
   ]
  },
  {
   "cell_type": "code",
   "execution_count": 38,
   "id": "b0fc6837",
   "metadata": {},
   "outputs": [
    {
     "data": {
      "text/plain": [
       "ObjectApiResponse({'name': '163dd7feee2c', 'cluster_name': 'docker-cluster', 'cluster_uuid': 'qiPQpuGBSwGK5RW2XA7YHw', 'version': {'number': '8.8.2', 'build_flavor': 'default', 'build_type': 'docker', 'build_hash': '98e1271edf932a480e4262a471281f1ee295ce6b', 'build_date': '2023-06-26T05:16:16.196344851Z', 'build_snapshot': False, 'lucene_version': '9.6.0', 'minimum_wire_compatibility_version': '7.17.0', 'minimum_index_compatibility_version': '7.0.0'}, 'tagline': 'You Know, for Search'})"
      ]
     },
     "execution_count": 38,
     "metadata": {},
     "output_type": "execute_result"
    }
   ],
   "source": [
    "es = Elasticsearch(\"http://localhost:9200\")\n",
    "resp = es.info()\n",
    "resp"
   ]
  },
  {
   "cell_type": "code",
   "execution_count": 39,
   "id": "ccb80af3",
   "metadata": {},
   "outputs": [],
   "source": [
    "index_name = 'products'"
   ]
  },
  {
   "cell_type": "code",
   "execution_count": 40,
   "id": "1a6537ea",
   "metadata": {},
   "outputs": [],
   "source": [
    "file_name = '.\\Data\\df_dict.pkl'\n",
    "with open(file_name, \"rb\") as file:\n",
    "    df_dict = pickle.load(file)"
   ]
  },
  {
   "cell_type": "markdown",
   "id": "3174a3b4",
   "metadata": {},
   "source": [
    "## Store the data to the elasticsearch"
   ]
  },
  {
   "cell_type": "code",
   "execution_count": 45,
   "id": "37b97c70",
   "metadata": {},
   "outputs": [],
   "source": [
    "# for i, product in enumerate(df_dict):\n",
    "#     es.index(index=index_name, id = product['Product_id'], body=product)"
   ]
  },
  {
   "cell_type": "markdown",
   "id": "8af8d788",
   "metadata": {},
   "source": [
    "## Define your count query to get the total number of documents in the index."
   ]
  },
  {
   "cell_type": "code",
   "execution_count": 42,
   "id": "120b6713",
   "metadata": {},
   "outputs": [
    {
     "name": "stderr",
     "output_type": "stream",
     "text": [
      "<ipython-input-42-c25c9c64f132>:9: DeprecationWarning: The 'body' parameter is deprecated and will be removed in a future version. Instead use individual parameters.\n",
      "  response = es.count(index=index_name, body=count_query)\n"
     ]
    },
    {
     "name": "stdout",
     "output_type": "stream",
     "text": [
      "Total number of documents in the index 'products': 488\n"
     ]
    }
   ],
   "source": [
    "count_query = {\n",
    "    \"query\": {\n",
    "        \"match_all\": {}\n",
    "    }\n",
    "}\n",
    "\n",
    "# Perform the count query\n",
    "response = es.count(index=index_name, body=count_query)\n",
    "\n",
    "# Extract the total count of documents\n",
    "total_documents = response['count']\n",
    "\n",
    "print(f\"Total number of documents in the index '{index_name}': {total_documents}\")"
   ]
  },
  {
   "cell_type": "code",
   "execution_count": 43,
   "id": "184807de",
   "metadata": {},
   "outputs": [],
   "source": [
    "def recommend_products(keywords, num_results=5):\n",
    "    res = es.search(\n",
    "        index=\"products\",\n",
    "        body={\n",
    "            \"query\": {\n",
    "                \"multi_match\": {\n",
    "                    \"query\": keywords,\n",
    "                    \"fields\": ['Product_Name', 'Product_Name_en', 'Description', 'Description_en'],\n",
    "                    \"type\": \"cross_fields\",\n",
    "                    \"operator\": \"and\"\n",
    "                }\n",
    "            },\n",
    "            \"size\": num_results\n",
    "        }\n",
    "    )\n",
    "\n",
    "    recommendations = []\n",
    "    for hit in res['hits']['hits']:\n",
    "        recommendations.append(hit['_source'])\n",
    "\n",
    "    return recommendations"
   ]
  },
  {
   "cell_type": "code",
   "execution_count": 44,
   "id": "17094207",
   "metadata": {},
   "outputs": [
    {
     "name": "stderr",
     "output_type": "stream",
     "text": [
      "<ipython-input-43-f788714ce77d>:2: DeprecationWarning: The 'body' parameter is deprecated and will be removed in a future version. Instead use individual parameters.\n",
      "  res = es.search(\n"
     ]
    },
    {
     "data": {
      "text/plain": [
       "[{'Product_id': 'CU0009108106',\n",
       "  'Product_Name': '福氣永豐(葡萄酒)',\n",
       "  'Product_Name_en': 'Viachi Spirit – Abundance (Grape)',\n",
       "  'Description': '天癒巨峰葡萄醇釀，濃烈豐厚，温潤純粹，值得品味珍藏。 \\n \\n 無添加人工香料及食用酒精\\n \\n (58%)',\n",
       "  'Description_en': 'Made from healthy grapes cultivated using the AgriDragon biomimicry farming technique, this unique spirit is rich and well-balanced with layers of flavors. No artificial flavorings or edible alcohol is added. (58%)'},\n",
       " {'Product_id': 'CU0007812108',\n",
       "  'Product_Name': '仰照式紅色光譜植物燈',\n",
       "  'Product_Name_en': 'shine upwards type red spectrum plant light',\n",
       "  'Description': '⚫ 提高著果率，適用於葡萄、百香果及瓜果類植物\\n \\n ⚫ 促進植物生長，適用於各式農作物。⚫ 625nm/660nm雙紅光譜設計，包含一般紅光與植物專用紅光，具有更佳吸收效率。 \\n \\n ⚫ 專為 LED 芯片「定電流」設計，低功率損耗，降低工作溫度 \\n \\n ⚫ 高透光壓克力圓罩，採用圓罩設計光線更均勻分布。 \\n \\n ⚫ 鋁基板設計，提高散熱效果，使 LED 芯片更耐用，延長使用週期降低光衰。',\n",
       "  'Description_en': '⚫ Improve the fruit setting rate, suitable for grapes, passion fruit and melon and fruit plants\\n \\n ⚫ Promote plant growth, suitable for all kinds of crops. \\n \\n ⚫ 625nm/660nm dual-red spectrum design, including general red light and plant-specific red light, with better absorption efficiency.\\n \\n ⚫ Specially designed for LED chip \"constant current\", low power loss and lower operating temperature\\n \\n ⚫ High light transmission acrylic dome, using dome design to distribute light more evenly.\\n \\n ⚫ The aluminum substrate design improves the heat dissipation effect, makes the LED chip more durable, prolongs the service cycle and reduces light decay.'},\n",
       " {'Product_id': 'CU0007812110',\n",
       "  'Product_Name': '仰照式紅色光譜植物燈',\n",
       "  'Product_Name_en': 'shine upwards type red spectrum plant light',\n",
       "  'Description': '⚫ 提高著果率，適用於葡萄、百香果及瓜果類植物\\n \\n ⚫ 促進植物生長，適用於各式農作物。\\n \\n ⚫ 625nm/660nm雙紅光譜設計，包含一般紅光與植物專用紅光，具有更佳吸收效率。 \\n \\n ⚫ 專為 LED 芯片「定電流」設計，低功率損耗，降低工作溫度 \\n \\n ⚫ 高透光壓克力圓罩，採用圓罩設計光線更均勻分布。 \\n \\n ⚫ 鋁基板設計，提高散熱效果，使 LED 芯片更耐用，延長使用週期降低光衰。',\n",
       "  'Description_en': '⚫ Improve the fruit setting rate, suitable for grapes, passion fruit and melon and fruit plants\\n \\n ⚫ Promote plant growth, suitable for all kinds of crops. \\n \\n ⚫ 625nm/660nm dual-red spectrum design, including general red light and plant-specific red light, with better absorption efficiency.\\n \\n ⚫ Specially designed for LED chip \"constant current\", low power loss and lower operating temperature\\n \\n ⚫ High light transmission acrylic dome, using dome design to distribute light more evenly.\\n \\n ⚫ The aluminum substrate design improves the heat dissipation effect, makes the LED chip more durable, prolongs the service cycle and reduces light decay.'},\n",
       " {'Product_id': 'CU0009108101',\n",
       "  'Product_Name': '霹靂穠研酒藏',\n",
       "  'Product_Name_en': 'Pili & Viachi Spirits Classics',\n",
       "  'Description': '興藝峰生技農業和霹靂布袋戲，在地深耕，放眼世界，均為台灣原創精神代表！ 跨界聯名推出【霹靂穠研酒藏】，以天癒仿生農法系統鮮品醇釀蒸餾，天然好酒，醇淬濃烈而順喉！\\n \\n \\n \\n 【霹靂穠研酒藏】由霹靂劍界雙巔代言～風之痕與憶秋年，造詣高深，實力堅強的知己好友，搭配特選四款酒品—福氣永豐（葡萄酒）、和氣元酒（丹參）、百花姬酒、紅藜白酒—相互輝映，值得典藏！',\n",
       "  'Description_en': 'Agri-Dragon Biotech and Pili International Multimedia both represent Taiwan’s spirit of innovation. Agri-Dragon Biotech invents the patented AgriDragon Biomimicry Farming System, and Pili International Multimedia find new ways to keep the traditional hand puppet show alive. They collaborate with each other to launch the Pili & Viachi Spirits Classics. Healthy energetic crops and advanced fermentation and distillation techniques make the spirits classics pure, strong and smooth! \\n \\n Abundance (grape), The Dove (Salvia), Multi-Flower Spirit, and Red Quinoa Baijiu are the four well-chosen spirits in Pili & Viachi Spirits Classics, endorsed by Feng Zhi Hen and Yi Qiu Nian, the two famous outstanding Pili characters specializing in sword skills. They are not only competitors but also bosom friends, cherishing their friendship and loving drinking spirits together. The spirits and the characters are very well-matched. Pili & Viachi Spirits Classics is worth collecting!'},\n",
       " {'Product_id': 'CU0009108110',\n",
       "  'Product_Name': '天癒糙米堅果酥',\n",
       "  'Product_Name_en': 'Brown Rice & Nut Crispy Treats',\n",
       "  'Description': '天癒五生米系列 天癒五生米，於台東長濱面臨太平洋背靠金剛山的天然優勢中 健康成長，富含生物氣能，口感香Q。 精選天癒仿生農法糙米及多種堅果，採低溫烘焙製程， 健康天然，香脆可口，含膳食纖維，可增進飽足感。 搭配天癒糙米原漿，更是養生休閒絕佳輕食組合。 成分：腰果、糙米、南瓜子、杏仁、蔓越莓干、葡萄干、麥芽糖、異麥芽寡糖、二砂糖、L-阿拉伯糖。 原產地：台灣 淨重：150g',\n",
       "  'Description_en': 'Introduction： Specially selected Viachi brown rice and assorted nuts, baked under low temperature, make the crispy treats a healthy and delicious snack. Containing dietary fiber, the snack promotes satiety and combines well with our Brown Rice Drink as a light meal. Advantages: Pesticide-free. No chemical fertilizers, artificial colors, flavors or preservatives. Natural and Nutritious. Good for vegetarians.'}]"
      ]
     },
     "execution_count": 44,
     "metadata": {},
     "output_type": "execute_result"
    }
   ],
   "source": [
    "recommend_products('葡萄')"
   ]
  },
  {
   "cell_type": "code",
   "execution_count": 18,
   "id": "99a80450",
   "metadata": {},
   "outputs": [
    {
     "name": "stdout",
     "output_type": "stream",
     "text": [
      "The index 'products' has been deleted.\n"
     ]
    }
   ],
   "source": [
    "# # Send the DELETE request to delete the entire index\n",
    "# response = es.indices.delete(index=index_name)\n",
    "\n",
    "# # Check if the operation was successful\n",
    "# if response[\"acknowledged\"]:\n",
    "#     print(f\"The index '{index_name}' has been deleted.\")\n",
    "# else:\n",
    "#     print(f\"Failed to delete the index '{index_name}'.\")"
   ]
  },
  {
   "cell_type": "code",
   "execution_count": null,
   "id": "a9941c99",
   "metadata": {},
   "outputs": [],
   "source": []
  }
 ],
 "metadata": {
  "kernelspec": {
   "display_name": "Python 3",
   "language": "python",
   "name": "python3"
  },
  "language_info": {
   "codemirror_mode": {
    "name": "ipython",
    "version": 3
   },
   "file_extension": ".py",
   "mimetype": "text/x-python",
   "name": "python",
   "nbconvert_exporter": "python",
   "pygments_lexer": "ipython3",
   "version": "3.8.8"
  }
 },
 "nbformat": 4,
 "nbformat_minor": 5
}
