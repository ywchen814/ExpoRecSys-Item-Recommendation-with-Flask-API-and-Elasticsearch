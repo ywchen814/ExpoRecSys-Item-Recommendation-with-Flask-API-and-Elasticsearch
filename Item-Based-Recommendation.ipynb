{
 "cells": [
  {
   "cell_type": "markdown",
   "id": "770540be",
   "metadata": {},
   "source": [
    "# Enhancing Product Discovery in Exhibition 📈"
   ]
  },
  {
   "cell_type": "markdown",
   "id": "8c3e5891",
   "metadata": {},
   "source": [
    "<!-- <font size=+3><center><b>Telco Churn Prediction with ML Insights 📈</b></center></font> -->\n",
    "<img src=\".\\rec.png\" style=\"float: center;\" width=\"360\" height=\"360\" />\n",
    "<span style=\"font-size: 12px;\"><center><em>Photo by NVIDIA</em></center></span>\n",
    "<span style=\"font-size: 20px;\"><left><b>Table of Contents</b></left></span>\n",
    "\n",
    "- [Introduction](#Introduction)\n",
    "- [Objective](#Objective)\n",
    "- [Libraries](#Libraries)\n",
    "- [Default Setting](#Default-Setting)\n",
    "- [Functions](#Functions)\n",
    "- [A Quick Look at our Data](#A-Quick-Look-at-our-Data)\n",
    "    - [Data Attributes](#Dataset-Attributes)\n",
    "- [Exploratory Data Analysis](#Exploratory-Data-Analysis)\n",
    "    - [Continuous Variables](#Continuous-Variables)\n",
    "    - [Categorical Variables](#Categorical-Variables)\n",
    "- [Data Preprocessing](#Data-Preprocessing)\n",
    "    - [Encoding Categorical Features](#Encoding-Categorical-Features)\n",
    "    - [Text Encoding](#Text-Encoding)\n",
    "- [Recommendation Model Building](#Recommendation-Model-Building)\n",
    "    - [Experiment and Parameter Tuning](#Experiment-and-Parameter-Tuning)\n",
    "    - [Recommend Top K](#Recommend-Top-K)\n",
    "- [Future Development](#Future-Development)\n",
    "- [Conclusions](#Conclusions)"
   ]
  },
  {
   "cell_type": "markdown",
   "id": "10fcc432",
   "metadata": {},
   "source": [
    "# Introduciton\n",
    "\n",
    "In the dynamic exhibition industry, attendees often face the challenge of efficiently discovering relevant products amidst a vast array of offerings. To address this issue, recommendation systems have gained significant attention for their ability to provide personalized suggestions based on user preferences. In this research, we aim to develop an item-based recommendation model tailored to the exhibition industry, leveraging the text descriptions of products available. By analyzing these features, our model will enable attendees to find products that closely align with their interests and recommend similar items, thereby enhancing the overall exhibition experience."
   ]
  },
  {
   "cell_type": "markdown",
   "id": "49668324",
   "metadata": {},
   "source": [
    "# Objective\n",
    "\n",
    "In this case, the absence of explicit labels and user information poses a challenge for building effective recommendation models. This research aims to develop an item-based recommendation model using product features, leveraging unsupervised learning techniques to overcome the absence of labels and limited user information. By addressing this problem, the study aims to enhance product discovery and facilitate meaningful connections between attendees and exhibitors in the exhibition industry.\n",
    "\n",
    "In this project, I would like to answer intriguing questions that I have discovered:\n",
    "\n",
    "* What are the key product features that significantly influence the relevance and similarity of items within the exhibition industry? How can the item-based recommendation model effectively utilize these product features?\n",
    "* What are the suitable similarity analysis techniques and algorithms that can measure item similarity based on the available product features?\n",
    "* How can machine learning techniques be employed to train the item-based recommendation model using the exhibition industry's product feature dataset?\n",
    "* What are the challenges and techniques involved in extracting relevant information from the text descriptions of products to enhance the recommendation model?\n",
    "* How can the performance and accuracy of the recommendation model be evaluated and measured in the context of the exhibition industry, considering the absence of explicit labels?"
   ]
  },
  {
   "cell_type": "markdown",
   "id": "496c6879",
   "metadata": {},
   "source": [
    "# Libraries"
   ]
  },
  {
   "cell_type": "code",
   "execution_count": 1,
   "id": "605f044f",
   "metadata": {},
   "outputs": [
    {
     "name": "stdout",
     "output_type": "stream",
     "text": [
      "Requirement already satisfied: seaborn in c:\\users\\user\\anaconda3\\lib\\site-packages (0.12.2)\n",
      "Requirement already satisfied: numpy!=1.24.0,>=1.17 in c:\\users\\user\\anaconda3\\lib\\site-packages (from seaborn) (1.20.1)\n",
      "Requirement already satisfied: pandas>=0.25 in c:\\users\\user\\anaconda3\\lib\\site-packages (from seaborn) (1.2.4)\n",
      "Requirement already satisfied: matplotlib!=3.6.1,>=3.1 in c:\\users\\user\\anaconda3\\lib\\site-packages (from seaborn) (3.3.4)\n",
      "Requirement already satisfied: cycler>=0.10 in c:\\users\\user\\anaconda3\\lib\\site-packages (from matplotlib!=3.6.1,>=3.1->seaborn) (0.10.0)\n",
      "Requirement already satisfied: pyparsing!=2.0.4,!=2.1.2,!=2.1.6,>=2.0.3 in c:\\users\\user\\anaconda3\\lib\\site-packages (from matplotlib!=3.6.1,>=3.1->seaborn) (2.4.7)\n",
      "Requirement already satisfied: pillow>=6.2.0 in c:\\users\\user\\anaconda3\\lib\\site-packages (from matplotlib!=3.6.1,>=3.1->seaborn) (8.2.0)\n",
      "Requirement already satisfied: python-dateutil>=2.1 in c:\\users\\user\\anaconda3\\lib\\site-packages (from matplotlib!=3.6.1,>=3.1->seaborn) (2.8.1)\n",
      "Requirement already satisfied: kiwisolver>=1.0.1 in c:\\users\\user\\anaconda3\\lib\\site-packages (from matplotlib!=3.6.1,>=3.1->seaborn) (1.3.1)\n",
      "Requirement already satisfied: six in c:\\users\\user\\anaconda3\\lib\\site-packages (from cycler>=0.10->matplotlib!=3.6.1,>=3.1->seaborn) (1.15.0)\n",
      "Requirement already satisfied: pytz>=2017.3 in c:\\users\\user\\anaconda3\\lib\\site-packages (from pandas>=0.25->seaborn) (2021.1)\n",
      "✔️ Libraries Imported!\n"
     ]
    }
   ],
   "source": [
    "import warnings\n",
    "warnings.simplefilter(action='ignore', category=FutureWarning)\n",
    "\n",
    "# Write/Read Excel \n",
    "import openpyxl\n",
    "\n",
    "import numpy as np\n",
    "import pandas as pd\n",
    "pd.set_option('precision', 3)\n",
    "\n",
    "# Data Visualisation Libraries\n",
    "import matplotlib.pyplot as plt\n",
    "%config InlineBackend.figure_format = 'retina'\n",
    "\n",
    "!pip install seaborn --upgrade\n",
    "import seaborn as sns\n",
    "sns.set_style('darkgrid')\n",
    "\n",
    "from sklearn.preprocessing import OneHotEncoder, LabelEncoder, StandardScaler, MinMaxScaler\n",
    "\n",
    "# Sentence BERT\n",
    "from sentence_transformers import SentenceTransformer, util\n",
    "print('✔️ Libraries Imported!')"
   ]
  },
  {
   "cell_type": "markdown",
   "id": "fcd15a41",
   "metadata": {},
   "source": [
    "# Default Setting"
   ]
  },
  {
   "cell_type": "code",
   "execution_count": 2,
   "id": "dc08a319",
   "metadata": {},
   "outputs": [
    {
     "name": "stdout",
     "output_type": "stream",
     "text": [
      "✔️ Default Setting Done!\n"
     ]
    }
   ],
   "source": [
    "pd.options.display.max_rows = None\n",
    "pd.options.display.max_columns = None\n",
    "\n",
    "font_size = 18\n",
    "plt.rcParams['axes.labelsize'] = font_size\n",
    "plt.rcParams['axes.titlesize'] = font_size + 2\n",
    "plt.rcParams['xtick.labelsize'] = font_size - 2\n",
    "plt.rcParams['ytick.labelsize'] = font_size - 2\n",
    "plt.rcParams['legend.fontsize'] = font_size - 2\n",
    "\n",
    "# colors = ['#00A5E0', '#DD403A']\n",
    "colors_cat = ['#E8907E', '#D5CABD', '#7A6F86', '#C34A36', '#B0A8B9', '#845EC2', '#8f9aaa', '#FFB86F', '#63BAAA', '#9D88B3', '#38c4e3']\n",
    "# colors_comp = ['steelblue', 'seagreen', 'black', 'darkorange', 'purple', 'firebrick', 'slategrey']\n",
    "\n",
    "random_state = 42\n",
    "# scoring_metric = 'recall'\n",
    "# comparison_dict, comparison_test_dict = {}, {}\n",
    "\n",
    "print('✔️ Default Setting Done!')"
   ]
  },
  {
   "cell_type": "markdown",
   "id": "b9a7a6df",
   "metadata": {},
   "source": [
    "# Functions"
   ]
  },
  {
   "cell_type": "markdown",
   "id": "c2a731ec",
   "metadata": {},
   "source": [
    "## normalize_embedding()"
   ]
  },
  {
   "cell_type": "code",
   "execution_count": 3,
   "id": "b936304d",
   "metadata": {},
   "outputs": [],
   "source": [
    "def normalize_embedding(embedding, norm=2):\n",
    "    '''\n",
    "    Normalize the input embedding vector.\n",
    "\n",
    "    Args:\n",
    "        embedding (numpy.ndarray): \n",
    "            The input embedding vector to be normalized.\n",
    "        \n",
    "        norm (int, default=2): \n",
    "            The order of the norm to be applied for normalization.\n",
    "        \n",
    "    Returns:\n",
    "        numpy.ndarray:\n",
    "            The normalized embedding vector.\n",
    "    '''\n",
    "    embedding = embedding / np.linalg.norm(embedding, ord=norm)\n",
    "    return embedding"
   ]
  },
  {
   "cell_type": "markdown",
   "id": "7db58e9d",
   "metadata": {},
   "source": [
    "## recommend_top_k(product_id, k, threshold)"
   ]
  },
  {
   "cell_type": "code",
   "execution_count": 4,
   "id": "15621789",
   "metadata": {},
   "outputs": [],
   "source": [
    "def recommend_top_k(product_id: int, k: int, threshold: float) -> tuple:\n",
    "    '''\n",
    "    Recommend the top k similar products given a product ID.\n",
    "\n",
    "    Args:\n",
    "        product_id (int): \n",
    "            The ID of the product for which recommendations will be generated.\n",
    "\n",
    "        k (int): \n",
    "            The number of top similar products to recommend.\n",
    "\n",
    "        threshold (float): \n",
    "            The threshold value for similarity scores. \n",
    "            Only recommendations with scores equal to or greater than this threshold will be considered.\n",
    "\n",
    "    Returns:\n",
    "        tuple:\n",
    "            A tuple containing two lists:\n",
    "            - The recommended product IDs.\n",
    "            - The corresponding similarity scores.\n",
    "            - The row indices of the recommended products as a list.\n",
    "\n",
    "    Example:\n",
    "        rec_pd_ids, rec_scores, rec_row_indices = recommend_top_k(CU0004601801, 5)\n",
    "    '''\n",
    "    \n",
    "\n",
    "    row_index = df[df['Product_id'] == product_id].index\n",
    "    # the reason for using k+1 is because the given item will be recommended\n",
    "    rec_k_dic = util.semantic_search(embedding[row_index], embedding, top_k=k+1)[0] \n",
    "    # drop the given item itself\n",
    "    rec_k_dic = np.delete(rec_k_dic, 0)\n",
    "    rec_row_idx = []\n",
    "    rec_score_ls = []\n",
    "    for item in rec_k_dic:\n",
    "        score = round(item['score'], 3)\n",
    "        if score >= threshold:\n",
    "            rec_row_idx.append(item['corpus_id'])\n",
    "            rec_score_ls.append(round(item['score'], 3)) \n",
    "\n",
    "    rec_pd_id_ls = np.array(df.loc[rec_row_idx, 'Product_id'])\n",
    "    return (rec_pd_id_ls, rec_score_ls, rec_row_idx)"
   ]
  },
  {
   "cell_type": "markdown",
   "id": "e5e6c9b8",
   "metadata": {},
   "source": [
    "# A Quick Look at our Data"
   ]
  },
  {
   "cell_type": "markdown",
   "id": "2a705df8",
   "metadata": {},
   "source": [
    "## Dataset Attributes\n",
    "\n",
    "- **Product_id**: The unique ID of the product.\n",
    "- **Product_Name**: The name or title of the product in Chinese.\n",
    "- **Vendor_id**: The unique ID of the vendor.\n",
    "- **Main_Category**: The main category or exhibition type of the product.\n",
    "- **Sub_Category**: The sub-category or specific category of the product.\n",
    "- **Description**: The text description of the product in Chinese.\n",
    "- **Product_Name_en**: The name or title of the product in English.\n",
    "- **Description_en**: The text description of the product in English."
   ]
  },
  {
   "cell_type": "code",
   "execution_count": 5,
   "id": "c30f0c19",
   "metadata": {
    "scrolled": true
   },
   "outputs": [
    {
     "name": "stdout",
     "output_type": "stream",
     "text": [
      "✔️ Dataset Imported Successfully!\n",
      "\n",
      "It contains 977 rows and 28 columns.\n"
     ]
    }
   ],
   "source": [
    "df = pd.read_excel('./Data/Product_20230702.xlsx', header=0, skiprows=[0,2,3,4])\n",
    "\n",
    "print('✔️ Dataset Imported Successfully!\\n')\n",
    "print('It contains {} rows and {} columns.'.format(df.shape[0], df.shape[1]))"
   ]
  },
  {
   "cell_type": "code",
   "execution_count": 6,
   "id": "ec6d84f4",
   "metadata": {},
   "outputs": [
    {
     "data": {
      "text/html": [
       "<div>\n",
       "<style scoped>\n",
       "    .dataframe tbody tr th:only-of-type {\n",
       "        vertical-align: middle;\n",
       "    }\n",
       "\n",
       "    .dataframe tbody tr th {\n",
       "        vertical-align: top;\n",
       "    }\n",
       "\n",
       "    .dataframe thead th {\n",
       "        text-align: right;\n",
       "    }\n",
       "</style>\n",
       "<table border=\"1\" class=\"dataframe\">\n",
       "  <thead>\n",
       "    <tr style=\"text-align: right;\">\n",
       "      <th></th>\n",
       "      <th>語系*</th>\n",
       "      <th>產品ID*</th>\n",
       "      <th>產品名稱*</th>\n",
       "      <th>自定關鍵字(逗點隔開)</th>\n",
       "      <th>是否要貼標</th>\n",
       "      <th>庫存狀況</th>\n",
       "      <th>定價</th>\n",
       "      <th>售價</th>\n",
       "      <th>產品網址*</th>\n",
       "      <th>廠商ID*</th>\n",
       "      <th>廠商攤位號碼</th>\n",
       "      <th>廠商名稱*</th>\n",
       "      <th>國家簡寫*</th>\n",
       "      <th>原廠名稱</th>\n",
       "      <th>產品主類別*(展別)</th>\n",
       "      <th>產品次類別*(類別)</th>\n",
       "      <th>簡述 (展品特色)</th>\n",
       "      <th>規格</th>\n",
       "      <th>SEO Title</th>\n",
       "      <th>SEO DES</th>\n",
       "      <th>影片連結</th>\n",
       "      <th>認證</th>\n",
       "      <th>是否開啟*</th>\n",
       "      <th>列表圖</th>\n",
       "      <th>內頁圖片1</th>\n",
       "      <th>Unnamed: 25</th>\n",
       "      <th>Unnamed: 26</th>\n",
       "      <th>Unnamed: 27</th>\n",
       "    </tr>\n",
       "  </thead>\n",
       "  <tbody>\n",
       "    <tr>\n",
       "      <th>0</th>\n",
       "      <td>tw</td>\n",
       "      <td>CU0004601801</td>\n",
       "      <td>PE 修補膠帶</td>\n",
       "      <td>NaN</td>\n",
       "      <td>1.0</td>\n",
       "      <td>in_stock</td>\n",
       "      <td>99.0</td>\n",
       "      <td>99.0</td>\n",
       "      <td>CU0004601801</td>\n",
       "      <td>CU00046018</td>\n",
       "      <td>NaN</td>\n",
       "      <td>萬洲化學股份有限公司</td>\n",
       "      <td>TW</td>\n",
       "      <td>萬洲化學股份有限公司</td>\n",
       "      <td>agritech</td>\n",
       "      <td>Garden-Materials</td>\n",
       "      <td>●全天候環保聚乙烯膠帶\\n \\n ●高粘合溶劑型丙烯酸粘合劑 \\n \\n ●適用於大範圍的戶...</td>\n",
       "      <td>NaN</td>\n",
       "      <td>NaN</td>\n",
       "      <td>NaN</td>\n",
       "      <td>NaN</td>\n",
       "      <td>NaN</td>\n",
       "      <td>1.0</td>\n",
       "      <td>CU0004601801.jpg</td>\n",
       "      <td>CU0004601801.jpg</td>\n",
       "      <td>NaN</td>\n",
       "      <td>NaN</td>\n",
       "      <td>NaN</td>\n",
       "    </tr>\n",
       "    <tr>\n",
       "      <th>1</th>\n",
       "      <td>tw</td>\n",
       "      <td>CU0004601802</td>\n",
       "      <td>C+ 生物可分解膠帶</td>\n",
       "      <td>NaN</td>\n",
       "      <td>1.0</td>\n",
       "      <td>in_stock</td>\n",
       "      <td>99.0</td>\n",
       "      <td>99.0</td>\n",
       "      <td>CU0004601802</td>\n",
       "      <td>CU00046018</td>\n",
       "      <td>NaN</td>\n",
       "      <td>萬洲化學股份有限公司</td>\n",
       "      <td>TW</td>\n",
       "      <td>萬洲化學股份有限公司</td>\n",
       "      <td>agritech</td>\n",
       "      <td>Garden-Materials</td>\n",
       "      <td>● C+通用型包裝膠帶\\n \\n ●全世界第一個生物可分解OPP 包裝解決方案，可與一般PP...</td>\n",
       "      <td>NaN</td>\n",
       "      <td>NaN</td>\n",
       "      <td>NaN</td>\n",
       "      <td>NaN</td>\n",
       "      <td>NaN</td>\n",
       "      <td>1.0</td>\n",
       "      <td>CU0004601802.jpg</td>\n",
       "      <td>CU0004601802.jpg</td>\n",
       "      <td>NaN</td>\n",
       "      <td>NaN</td>\n",
       "      <td>NaN</td>\n",
       "    </tr>\n",
       "    <tr>\n",
       "      <th>2</th>\n",
       "      <td>tw</td>\n",
       "      <td>CU0004601803</td>\n",
       "      <td>PVC 接梨膠帶</td>\n",
       "      <td>NaN</td>\n",
       "      <td>1.0</td>\n",
       "      <td>in_stock</td>\n",
       "      <td>99.0</td>\n",
       "      <td>99.0</td>\n",
       "      <td>CU0004601803</td>\n",
       "      <td>CU00046018</td>\n",
       "      <td>NaN</td>\n",
       "      <td>萬洲化學股份有限公司</td>\n",
       "      <td>TW</td>\n",
       "      <td>萬洲化學股份有限公司</td>\n",
       "      <td>agritech</td>\n",
       "      <td>Garden-Materials</td>\n",
       "      <td>●軟質亮面PVC 膠帶\\n \\n ●高剝離力\\n \\n ●適合用於梨子接枝 \\n \\n ●環...</td>\n",
       "      <td>NaN</td>\n",
       "      <td>NaN</td>\n",
       "      <td>NaN</td>\n",
       "      <td>NaN</td>\n",
       "      <td>NaN</td>\n",
       "      <td>1.0</td>\n",
       "      <td>CU0004601803.jpg</td>\n",
       "      <td>CU0004601803.jpg</td>\n",
       "      <td>NaN</td>\n",
       "      <td>NaN</td>\n",
       "      <td>NaN</td>\n",
       "    </tr>\n",
       "    <tr>\n",
       "      <th>3</th>\n",
       "      <td>tw</td>\n",
       "      <td>CU0004601804</td>\n",
       "      <td>PVC 接梨膠帶</td>\n",
       "      <td>NaN</td>\n",
       "      <td>1.0</td>\n",
       "      <td>in_stock</td>\n",
       "      <td>99.0</td>\n",
       "      <td>99.0</td>\n",
       "      <td>CU0004601804</td>\n",
       "      <td>CU00046018</td>\n",
       "      <td>NaN</td>\n",
       "      <td>萬洲化學股份有限公司</td>\n",
       "      <td>TW</td>\n",
       "      <td>萬洲化學股份有限公司</td>\n",
       "      <td>agritech</td>\n",
       "      <td>Garden-Materials</td>\n",
       "      <td>軟質亮面PVC 膠帶、高剝離力、適合用於梨子接枝</td>\n",
       "      <td>NaN</td>\n",
       "      <td>NaN</td>\n",
       "      <td>NaN</td>\n",
       "      <td>NaN</td>\n",
       "      <td>NaN</td>\n",
       "      <td>1.0</td>\n",
       "      <td>CU0004601804.jpg</td>\n",
       "      <td>CU0004601804.jpg</td>\n",
       "      <td>NaN</td>\n",
       "      <td>NaN</td>\n",
       "      <td>NaN</td>\n",
       "    </tr>\n",
       "    <tr>\n",
       "      <th>4</th>\n",
       "      <td>tw</td>\n",
       "      <td>CU0004601805</td>\n",
       "      <td>回收PET膠帶</td>\n",
       "      <td>NaN</td>\n",
       "      <td>1.0</td>\n",
       "      <td>in_stock</td>\n",
       "      <td>99.0</td>\n",
       "      <td>99.0</td>\n",
       "      <td>CU0004601805</td>\n",
       "      <td>CU00046018</td>\n",
       "      <td>NaN</td>\n",
       "      <td>萬洲化學股份有限公司</td>\n",
       "      <td>TW</td>\n",
       "      <td>萬洲化學股份有限公司</td>\n",
       "      <td>agritech</td>\n",
       "      <td>Garden-Materials</td>\n",
       "      <td>高黏著力、無溶劑、環境友善、高保持力、高機械強度</td>\n",
       "      <td>NaN</td>\n",
       "      <td>NaN</td>\n",
       "      <td>NaN</td>\n",
       "      <td>NaN</td>\n",
       "      <td>NaN</td>\n",
       "      <td>1.0</td>\n",
       "      <td>CU0004601805.jpg</td>\n",
       "      <td>CU0004601805.jpg</td>\n",
       "      <td>NaN</td>\n",
       "      <td>NaN</td>\n",
       "      <td>NaN</td>\n",
       "    </tr>\n",
       "  </tbody>\n",
       "</table>\n",
       "</div>"
      ],
      "text/plain": [
       "  語系*         產品ID*       產品名稱* 自定關鍵字(逗點隔開)  是否要貼標      庫存狀況    定價    售價  \\\n",
       "0  tw  CU0004601801     PE 修補膠帶         NaN    1.0  in_stock  99.0  99.0   \n",
       "1  tw  CU0004601802  C+ 生物可分解膠帶         NaN    1.0  in_stock  99.0  99.0   \n",
       "2  tw  CU0004601803    PVC 接梨膠帶         NaN    1.0  in_stock  99.0  99.0   \n",
       "3  tw  CU0004601804    PVC 接梨膠帶         NaN    1.0  in_stock  99.0  99.0   \n",
       "4  tw  CU0004601805     回收PET膠帶         NaN    1.0  in_stock  99.0  99.0   \n",
       "\n",
       "          產品網址*       廠商ID*  廠商攤位號碼       廠商名稱* 國家簡寫*        原廠名稱 產品主類別*(展別)   \\\n",
       "0  CU0004601801  CU00046018     NaN  萬洲化學股份有限公司    TW  萬洲化學股份有限公司    agritech   \n",
       "1  CU0004601802  CU00046018     NaN  萬洲化學股份有限公司    TW  萬洲化學股份有限公司    agritech   \n",
       "2  CU0004601803  CU00046018     NaN  萬洲化學股份有限公司    TW  萬洲化學股份有限公司    agritech   \n",
       "3  CU0004601804  CU00046018     NaN  萬洲化學股份有限公司    TW  萬洲化學股份有限公司    agritech   \n",
       "4  CU0004601805  CU00046018     NaN  萬洲化學股份有限公司    TW  萬洲化學股份有限公司    agritech   \n",
       "\n",
       "         產品次類別*(類別)                                          簡述 (展品特色)   規格  \\\n",
       "0  Garden-Materials  ●全天候環保聚乙烯膠帶\\n \\n ●高粘合溶劑型丙烯酸粘合劑 \\n \\n ●適用於大範圍的戶...  NaN   \n",
       "1  Garden-Materials  ● C+通用型包裝膠帶\\n \\n ●全世界第一個生物可分解OPP 包裝解決方案，可與一般PP...  NaN   \n",
       "2  Garden-Materials  ●軟質亮面PVC 膠帶\\n \\n ●高剝離力\\n \\n ●適合用於梨子接枝 \\n \\n ●環...  NaN   \n",
       "3  Garden-Materials                           軟質亮面PVC 膠帶、高剝離力、適合用於梨子接枝  NaN   \n",
       "4  Garden-Materials                           高黏著力、無溶劑、環境友善、高保持力、高機械強度  NaN   \n",
       "\n",
       "   SEO Title  SEO DES  影片連結  認證  是否開啟*              列表圖              內頁圖片1  \\\n",
       "0        NaN      NaN   NaN NaN    1.0  CU0004601801.jpg  CU0004601801.jpg   \n",
       "1        NaN      NaN   NaN NaN    1.0  CU0004601802.jpg  CU0004601802.jpg   \n",
       "2        NaN      NaN   NaN NaN    1.0  CU0004601803.jpg  CU0004601803.jpg   \n",
       "3        NaN      NaN   NaN NaN    1.0  CU0004601804.jpg  CU0004601804.jpg   \n",
       "4        NaN      NaN   NaN NaN    1.0  CU0004601805.jpg  CU0004601805.jpg   \n",
       "\n",
       "   Unnamed: 25  Unnamed: 26  Unnamed: 27  \n",
       "0          NaN          NaN          NaN  \n",
       "1          NaN          NaN          NaN  \n",
       "2          NaN          NaN          NaN  \n",
       "3          NaN          NaN          NaN  \n",
       "4          NaN          NaN          NaN  "
      ]
     },
     "execution_count": 6,
     "metadata": {},
     "output_type": "execute_result"
    }
   ],
   "source": [
    "df.head()"
   ]
  },
  {
   "cell_type": "markdown",
   "id": "239b8ba6",
   "metadata": {},
   "source": [
    "Remove redundant variables"
   ]
  },
  {
   "cell_type": "code",
   "execution_count": 7,
   "id": "256b39bd",
   "metadata": {},
   "outputs": [],
   "source": [
    "df = df[['語系*', '產品ID*', '產品名稱*', '廠商ID*', '國家簡寫*', '產品主類別*(展別) ', '產品次類別*(類別)', '簡述 (展品特色)']]"
   ]
  },
  {
   "cell_type": "code",
   "execution_count": 8,
   "id": "9973cbeb",
   "metadata": {},
   "outputs": [],
   "source": [
    "translation_dict = {\n",
    "    '語系*': 'Language',\n",
    "    '產品ID*': 'Product_id',\n",
    "    '產品名稱*':'Product_Name',\n",
    "    '廠商ID*': 'Vendor_id',\n",
    "    '國家簡寫*': 'Country',\n",
    "    '產品主類別*(展別) ': 'Main_Category',\n",
    "    '產品次類別*(類別)': 'Sub_Category',\n",
    "    '簡述 (展品特色)': 'Description'\n",
    "}\n",
    "df = df.rename(columns=translation_dict)"
   ]
  },
  {
   "cell_type": "markdown",
   "id": "3bf021bf",
   "metadata": {},
   "source": [
    "To combine descriptions in different languages, perform a self-join on the table."
   ]
  },
  {
   "cell_type": "code",
   "execution_count": 9,
   "id": "f4b9302c",
   "metadata": {},
   "outputs": [],
   "source": [
    "df_tw = df[df['Language']=='tw'].reset_index(drop = True, inplace = False)\n",
    "df_en = df[df['Language']=='en'].reset_index(drop = True, inplace = False)"
   ]
  },
  {
   "cell_type": "code",
   "execution_count": 10,
   "id": "3e2d225a",
   "metadata": {},
   "outputs": [],
   "source": [
    "df = pd.merge(df_tw, df_en, on='Product_id', how='outer')"
   ]
  },
  {
   "cell_type": "code",
   "execution_count": 11,
   "id": "2a7dd661",
   "metadata": {},
   "outputs": [],
   "source": [
    "col_idx = np.concatenate((np.arange(1,8,1) , [df.columns.get_loc('Product_Name_y'),-1]))\n",
    "df = df.iloc[:,col_idx]"
   ]
  },
  {
   "cell_type": "code",
   "execution_count": 12,
   "id": "b57993e3",
   "metadata": {},
   "outputs": [
    {
     "data": {
      "text/plain": [
       "Index(['Product_id', 'Product_Name_x', 'Vendor_id_x', 'Country_x',\n",
       "       'Main_Category_x', 'Sub_Category_x', 'Description_x', 'Product_Name_y',\n",
       "       'Description_y'],\n",
       "      dtype='object')"
      ]
     },
     "execution_count": 12,
     "metadata": {},
     "output_type": "execute_result"
    }
   ],
   "source": [
    "df.columns"
   ]
  },
  {
   "cell_type": "code",
   "execution_count": 13,
   "id": "48c2acda",
   "metadata": {},
   "outputs": [],
   "source": [
    "col_name = ['Product_id', 'Product_Name', 'Vendor_id', 'Country', 'Main_Category',\n",
    "            'Sub_Category', 'Description','Product_Name_en', 'Description_en']\n",
    "df.columns = col_name"
   ]
  },
  {
   "cell_type": "markdown",
   "id": "2400e06d",
   "metadata": {},
   "source": [
    "The `info()` method can give us valuable information such as the number of non-null values and the type of each feature:"
   ]
  },
  {
   "cell_type": "code",
   "execution_count": 14,
   "id": "40ed06f3",
   "metadata": {},
   "outputs": [
    {
     "name": "stdout",
     "output_type": "stream",
     "text": [
      "<class 'pandas.core.frame.DataFrame'>\n",
      "Int64Index: 488 entries, 0 to 487\n",
      "Data columns (total 9 columns):\n",
      " #   Column           Non-Null Count  Dtype \n",
      "---  ------           --------------  ----- \n",
      " 0   Product_id       488 non-null    object\n",
      " 1   Product_Name     488 non-null    object\n",
      " 2   Vendor_id        488 non-null    object\n",
      " 3   Country          488 non-null    object\n",
      " 4   Main_Category    488 non-null    object\n",
      " 5   Sub_Category     488 non-null    object\n",
      " 6   Description      487 non-null    object\n",
      " 7   Product_Name_en  488 non-null    object\n",
      " 8   Description_en   487 non-null    object\n",
      "dtypes: object(9)\n",
      "memory usage: 38.1+ KB\n"
     ]
    },
    {
     "data": {
      "text/html": [
       "<div>\n",
       "<style scoped>\n",
       "    .dataframe tbody tr th:only-of-type {\n",
       "        vertical-align: middle;\n",
       "    }\n",
       "\n",
       "    .dataframe tbody tr th {\n",
       "        vertical-align: top;\n",
       "    }\n",
       "\n",
       "    .dataframe thead th {\n",
       "        text-align: right;\n",
       "    }\n",
       "</style>\n",
       "<table border=\"1\" class=\"dataframe\">\n",
       "  <thead>\n",
       "    <tr style=\"text-align: right;\">\n",
       "      <th></th>\n",
       "      <th>Product_id</th>\n",
       "      <th>Product_Name</th>\n",
       "      <th>Vendor_id</th>\n",
       "      <th>Country</th>\n",
       "      <th>Main_Category</th>\n",
       "      <th>Sub_Category</th>\n",
       "      <th>Description</th>\n",
       "      <th>Product_Name_en</th>\n",
       "      <th>Description_en</th>\n",
       "    </tr>\n",
       "  </thead>\n",
       "  <tbody>\n",
       "    <tr>\n",
       "      <th>0</th>\n",
       "      <td>CU0004601801</td>\n",
       "      <td>PE 修補膠帶</td>\n",
       "      <td>CU00046018</td>\n",
       "      <td>TW</td>\n",
       "      <td>agritech</td>\n",
       "      <td>Garden-Materials</td>\n",
       "      <td>●全天候環保聚乙烯膠帶\\n \\n ●高粘合溶劑型丙烯酸粘合劑 \\n \\n ●適用於大範圍的戶...</td>\n",
       "      <td>PE repair tape</td>\n",
       "      <td>●All-weather environmentally friendly polyethy...</td>\n",
       "    </tr>\n",
       "    <tr>\n",
       "      <th>1</th>\n",
       "      <td>CU0004601802</td>\n",
       "      <td>C+ 生物可分解膠帶</td>\n",
       "      <td>CU00046018</td>\n",
       "      <td>TW</td>\n",
       "      <td>agritech</td>\n",
       "      <td>Garden-Materials</td>\n",
       "      <td>● C+通用型包裝膠帶\\n \\n ●全世界第一個生物可分解OPP 包裝解決方案，可與一般PP...</td>\n",
       "      <td>C biodegradable tape</td>\n",
       "      <td>● C+ general purpose packing tape\\n \\n ●The wo...</td>\n",
       "    </tr>\n",
       "    <tr>\n",
       "      <th>2</th>\n",
       "      <td>CU0004601803</td>\n",
       "      <td>PVC 接梨膠帶</td>\n",
       "      <td>CU00046018</td>\n",
       "      <td>TW</td>\n",
       "      <td>agritech</td>\n",
       "      <td>Garden-Materials</td>\n",
       "      <td>●軟質亮面PVC 膠帶\\n \\n ●高剝離力\\n \\n ●適合用於梨子接枝 \\n \\n ●環...</td>\n",
       "      <td>PVC pear tape</td>\n",
       "      <td>●Soft and glossy finished PVC tape\\n \\n ●High ...</td>\n",
       "    </tr>\n",
       "    <tr>\n",
       "      <th>3</th>\n",
       "      <td>CU0004601804</td>\n",
       "      <td>PVC 接梨膠帶</td>\n",
       "      <td>CU00046018</td>\n",
       "      <td>TW</td>\n",
       "      <td>agritech</td>\n",
       "      <td>Garden-Materials</td>\n",
       "      <td>軟質亮面PVC 膠帶、高剝離力、適合用於梨子接枝</td>\n",
       "      <td>PVC pear tape</td>\n",
       "      <td>Soft and glossy finished PVC tape、High unwindi...</td>\n",
       "    </tr>\n",
       "    <tr>\n",
       "      <th>4</th>\n",
       "      <td>CU0004601805</td>\n",
       "      <td>回收PET膠帶</td>\n",
       "      <td>CU00046018</td>\n",
       "      <td>TW</td>\n",
       "      <td>agritech</td>\n",
       "      <td>Garden-Materials</td>\n",
       "      <td>高黏著力、無溶劑、環境友善、高保持力、高機械強度</td>\n",
       "      <td>Recycled PET Tape</td>\n",
       "      <td>Strong Adhesion、Solvent-Free、ECO-Friendly、Heav...</td>\n",
       "    </tr>\n",
       "  </tbody>\n",
       "</table>\n",
       "</div>"
      ],
      "text/plain": [
       "     Product_id Product_Name   Vendor_id Country Main_Category  \\\n",
       "0  CU0004601801      PE 修補膠帶  CU00046018      TW      agritech   \n",
       "1  CU0004601802   C+ 生物可分解膠帶  CU00046018      TW      agritech   \n",
       "2  CU0004601803     PVC 接梨膠帶  CU00046018      TW      agritech   \n",
       "3  CU0004601804     PVC 接梨膠帶  CU00046018      TW      agritech   \n",
       "4  CU0004601805      回收PET膠帶  CU00046018      TW      agritech   \n",
       "\n",
       "       Sub_Category                                        Description  \\\n",
       "0  Garden-Materials  ●全天候環保聚乙烯膠帶\\n \\n ●高粘合溶劑型丙烯酸粘合劑 \\n \\n ●適用於大範圍的戶...   \n",
       "1  Garden-Materials  ● C+通用型包裝膠帶\\n \\n ●全世界第一個生物可分解OPP 包裝解決方案，可與一般PP...   \n",
       "2  Garden-Materials  ●軟質亮面PVC 膠帶\\n \\n ●高剝離力\\n \\n ●適合用於梨子接枝 \\n \\n ●環...   \n",
       "3  Garden-Materials                           軟質亮面PVC 膠帶、高剝離力、適合用於梨子接枝   \n",
       "4  Garden-Materials                           高黏著力、無溶劑、環境友善、高保持力、高機械強度   \n",
       "\n",
       "        Product_Name_en                                     Description_en  \n",
       "0        PE repair tape  ●All-weather environmentally friendly polyethy...  \n",
       "1  C biodegradable tape  ● C+ general purpose packing tape\\n \\n ●The wo...  \n",
       "2         PVC pear tape  ●Soft and glossy finished PVC tape\\n \\n ●High ...  \n",
       "3         PVC pear tape  Soft and glossy finished PVC tape、High unwindi...  \n",
       "4     Recycled PET Tape  Strong Adhesion、Solvent-Free、ECO-Friendly、Heav...  "
      ]
     },
     "execution_count": 14,
     "metadata": {},
     "output_type": "execute_result"
    }
   ],
   "source": [
    "df.info()\n",
    "df.head()"
   ]
  },
  {
   "cell_type": "markdown",
   "id": "3afdabfe",
   "metadata": {},
   "source": [
    "Modify the data type of category variables"
   ]
  },
  {
   "cell_type": "code",
   "execution_count": 15,
   "id": "5aae805b",
   "metadata": {},
   "outputs": [
    {
     "name": "stdout",
     "output_type": "stream",
     "text": [
      "<class 'pandas.core.frame.DataFrame'>\n",
      "Int64Index: 488 entries, 0 to 487\n",
      "Data columns (total 9 columns):\n",
      " #   Column           Non-Null Count  Dtype   \n",
      "---  ------           --------------  -----   \n",
      " 0   Product_id       488 non-null    object  \n",
      " 1   Product_Name     488 non-null    object  \n",
      " 2   Vendor_id        488 non-null    object  \n",
      " 3   Country          488 non-null    category\n",
      " 4   Main_Category    488 non-null    category\n",
      " 5   Sub_Category     488 non-null    category\n",
      " 6   Description      487 non-null    object  \n",
      " 7   Product_Name_en  488 non-null    object  \n",
      " 8   Description_en   487 non-null    object  \n",
      "dtypes: category(3), object(6)\n",
      "memory usage: 29.7+ KB\n"
     ]
    }
   ],
   "source": [
    "categorical = ['Country', 'Main_Category', 'Sub_Category']\n",
    "df[categorical] = df[categorical].astype('category')\n",
    "df.info()"
   ]
  },
  {
   "cell_type": "code",
   "execution_count": 16,
   "id": "db509907",
   "metadata": {},
   "outputs": [],
   "source": [
    "df['Main_Category'] = df['Main_Category'].replace({0:'N/A'})\n",
    "df['Sub_Category'] = df['Sub_Category'].replace({0:'N/A'})"
   ]
  },
  {
   "cell_type": "markdown",
   "id": "606ac52b",
   "metadata": {},
   "source": [
    "# Exploratory Data Analysis"
   ]
  },
  {
   "cell_type": "code",
   "execution_count": 17,
   "id": "7432e509",
   "metadata": {},
   "outputs": [
    {
     "data": {
      "text/plain": [
       "Text(0, 0.5, 'Counts')"
      ]
     },
     "execution_count": 17,
     "metadata": {},
     "output_type": "execute_result"
    },
    {
     "data": {
      "image/png": "[encoded data removed]",
      "text/plain": [
       "<Figure size 576x360 with 1 Axes>"
      ]
     },
     "metadata": {
      "image/png": {
       "height": 348,
       "width": 522
      }
     },
     "output_type": "display_data"
    }
   ],
   "source": [
    "df['Vendor_id'].value_counts().hist(figsize=(8, 5),\n",
    "                          bins=20,\n",
    "                          color='steelblue',\n",
    "                          linewidth=1.5);\n",
    "plt.title('Number of Products per Vendor')\n",
    "plt.xlabel('Number of Products')\n",
    "plt.ylabel('Counts')"
   ]
  },
  {
   "cell_type": "code",
   "execution_count": 18,
   "id": "96afca94",
   "metadata": {},
   "outputs": [
    {
     "data": {
      "text/plain": [
       "TW    487\n",
       "IT      1\n",
       "Name: Country, dtype: int64"
      ]
     },
     "execution_count": 18,
     "metadata": {},
     "output_type": "execute_result"
    }
   ],
   "source": [
    "df['Country'].value_counts()"
   ]
  },
  {
   "cell_type": "code",
   "execution_count": 19,
   "id": "31318de3",
   "metadata": {},
   "outputs": [],
   "source": [
    "df.drop(columns = 'Country', inplace = True)"
   ]
  },
  {
   "cell_type": "markdown",
   "id": "c11d2dd2",
   "metadata": {},
   "source": [
    "## Categorical variable"
   ]
  },
  {
   "cell_type": "code",
   "execution_count": 20,
   "id": "782caea4",
   "metadata": {},
   "outputs": [
    {
     "data": {
      "text/plain": [
       "agritech                        280\n",
       "agrilivestock                   116\n",
       "agrifresh                        53\n",
       "sustainable-aquatic-products     25\n",
       "fish-farming                     14\n",
       "Name: Main_Category, dtype: int64"
      ]
     },
     "execution_count": 20,
     "metadata": {},
     "output_type": "execute_result"
    }
   ],
   "source": [
    "df['Main_Category'].value_counts()"
   ]
  },
  {
   "cell_type": "code",
   "execution_count": 21,
   "id": "6d6256f3",
   "metadata": {
    "scrolled": false
   },
   "outputs": [
    {
     "data": {
      "image/png": "[encoded data removed]",
      "text/plain": [
       "<Figure size 576x432 with 1 Axes>"
      ]
     },
     "metadata": {
      "image/png": {
       "height": 422,
       "width": 566
      }
     },
     "output_type": "display_data"
    }
   ],
   "source": [
    "fig, ax = plt.subplots(figsize=(8, 6))\n",
    "sns.countplot(x='Main_Category', data=df, palette=colors_cat, width=0.8)\n",
    "plt.ylabel('Counts')\n",
    "plt.xticks(rotation=25)\n",
    "plt.tight_layout();"
   ]
  },
  {
   "cell_type": "markdown",
   "id": "7fd83632",
   "metadata": {},
   "source": [
    "For certain subgroups, there are only a few products."
   ]
  },
  {
   "cell_type": "code",
   "execution_count": 22,
   "id": "b1034139",
   "metadata": {},
   "outputs": [
    {
     "data": {
      "text/plain": [
       "Agritech-Other                                           129\n",
       "Agrilivestock-Other                                       50\n",
       "Labour-Saving-Machinery-and-Equipment                     40\n",
       "Livestock-Feed-and-Additives                              37\n",
       "Garden-Materials                                          29\n",
       "Sustainable-Aquatic-Products-Other                        24\n",
       "Intelligent-Detection-System-and-Equipment                23\n",
       "Ventilation-Equipment                                     21\n",
       "Organic-Fertilizer                                        15\n",
       "Agrifresh-Other                                           13\n",
       "Agricultural-Processing-Machinery                         12\n",
       "Seedlings-and-Flower-Seed                                 11\n",
       "Plant-Disease-and-Pest-Control                            11\n",
       "AIoT-Intelligent-Cold-Chain-Logistic-Solution             10\n",
       "Refrigeration-and-Freezing-Equipment                      10\n",
       "Fish-Farming-Other                                         9\n",
       "Intelligent-Temperature-Control-Technology                 8\n",
       "AIoT-Equipment-and-System                                  8\n",
       "Intelligent-Environmental-Control-Devices-and-Systems      5\n",
       "Grow-Light                                                 4\n",
       "Agricultural-Automation-Equipment                          4\n",
       "Intelligent-Irrigation-System-and-Equipment                3\n",
       "Water-Quality-Improve                                      3\n",
       "Biotechnology-Applications                                 2\n",
       "Feed-and-Feed-Additive                                     1\n",
       "Feed-Processing-Equipment-and-Testing-Equipment            1\n",
       "Organic-Waste-Disposal-Technology-and-Equipment            1\n",
       "Dehydrated-and-Pickled-Aquatic-Products                    1\n",
       "Artificial-Fog-Equipment                                   1\n",
       "Aquaculture-Technology-and-Management                      1\n",
       "Thermal-Camera                                             1\n",
       "Name: Sub_Category, dtype: int64"
      ]
     },
     "execution_count": 22,
     "metadata": {},
     "output_type": "execute_result"
    }
   ],
   "source": [
    "df['Sub_Category'].value_counts()"
   ]
  },
  {
   "cell_type": "markdown",
   "id": "84688350",
   "metadata": {},
   "source": [
    "## Text Description"
   ]
  },
  {
   "cell_type": "code",
   "execution_count": 36,
   "id": "98819e9c",
   "metadata": {},
   "outputs": [
    {
     "data": {
      "text/plain": [
       "0    ●全天候環保聚乙烯膠帶\\n \\n ●高粘合溶劑型丙烯酸粘合劑 \\n \\n ●適用於大範圍的戶...\n",
       "1    ● C+通用型包裝膠帶\\n \\n ●全世界第一個生物可分解OPP 包裝解決方案，可與一般PP...\n",
       "2    ●軟質亮面PVC 膠帶\\n \\n ●高剝離力\\n \\n ●適合用於梨子接枝 \\n \\n ●環...\n",
       "3                             軟質亮面PVC 膠帶、高剝離力、適合用於梨子接枝\n",
       "4                             高黏著力、無溶劑、環境友善、高保持力、高機械強度\n",
       "Name: Description, dtype: object"
      ]
     },
     "execution_count": 36,
     "metadata": {},
     "output_type": "execute_result"
    }
   ],
   "source": [
    "df['Description'].head()"
   ]
  },
  {
   "cell_type": "code",
   "execution_count": 34,
   "id": "2b21d604",
   "metadata": {},
   "outputs": [
    {
     "data": {
      "text/plain": [
       "0    ●All-weather environmentally friendly polyethy...\n",
       "1    ● C+ general purpose packing tape\\n \\n ●The wo...\n",
       "2    ●Soft and glossy finished PVC tape\\n \\n ●High ...\n",
       "3    Soft and glossy finished PVC tape、High unwindi...\n",
       "4    Strong Adhesion、Solvent-Free、ECO-Friendly、Heav...\n",
       "Name: Description_en, dtype: object"
      ]
     },
     "execution_count": 34,
     "metadata": {},
     "output_type": "execute_result"
    }
   ],
   "source": [
    "df['Description_en'].head()"
   ]
  },
  {
   "cell_type": "markdown",
   "id": "dee45933",
   "metadata": {},
   "source": [
    "# Data Preprocessing"
   ]
  },
  {
   "cell_type": "markdown",
   "id": "5c108388",
   "metadata": {},
   "source": [
    "We will create four embeddings:\n",
    "\n",
    "* Main Category embedding \n",
    "* Subcategory embedding \n",
    "* Product Name embedding\n",
    "* Product Description embedding\n",
    "\n",
    "To generate accurate recommendation, we determine the weights of these embeddings based on their importance."
   ]
  },
  {
   "cell_type": "code",
   "execution_count": 25,
   "id": "61568dff",
   "metadata": {},
   "outputs": [],
   "source": [
    "arr = [1, 4, 25, 13]\n",
    "alpha = arr/np.sum(arr)"
   ]
  },
  {
   "cell_type": "markdown",
   "id": "ef1fdd29",
   "metadata": {},
   "source": [
    "## Categorical Features Encoding"
   ]
  },
  {
   "cell_type": "markdown",
   "id": "03a1d167",
   "metadata": {},
   "source": [
    "Utilize one-hot encoding to encode the `Main_Category` and `Sub_Category` variables, enabling us to analyze the similarity between vectors in the further analysis"
   ]
  },
  {
   "cell_type": "code",
   "execution_count": 26,
   "id": "5c0fb76c",
   "metadata": {},
   "outputs": [
    {
     "data": {
      "text/plain": [
       "(488, 36)"
      ]
     },
     "execution_count": 26,
     "metadata": {},
     "output_type": "execute_result"
    }
   ],
   "source": [
    "main_encode = pd.get_dummies(df['Main_Category'], drop_first=False)*alpha[0]\n",
    "sub_encode = pd.get_dummies(df['Sub_Category'], drop_first=False)*alpha[1]\n",
    "category_encode = np.concatenate((main_encode, sub_encode), axis=1)\n",
    "category_encode.shape"
   ]
  },
  {
   "cell_type": "markdown",
   "id": "1457b9aa",
   "metadata": {},
   "source": [
    "## Text Encoding"
   ]
  },
  {
   "cell_type": "markdown",
   "id": "7016d9d0",
   "metadata": {},
   "source": [
    "Utilize Sentence-BERT, which is based on Siamese BERT-Networks, to generate embeddings for both `Product_Name` and `Description`, as described in the paper [\"Sentence-BERT: Sentence Embeddings using Siamese BERT-Networks\"](https://arxiv.org/pdf/1908.10084.pdf) (Reimers & Gurevych, 2019)."
   ]
  },
  {
   "cell_type": "code",
   "execution_count": 27,
   "id": "67f5c9e5",
   "metadata": {},
   "outputs": [],
   "source": [
    "model = SentenceTransformer('paraphrase-distilroberta-base-v1')\n",
    "product_em_tw_ = model.encode(df['Product_Name'])\n",
    "product_em_en_ = model.encode(df['Product_Name_en'])\n",
    "des_em_tw_ = model.encode(df['Description'])\n",
    "des_em_en_ = model.encode(df['Description_en'])"
   ]
  },
  {
   "cell_type": "markdown",
   "id": "64c84c9e",
   "metadata": {},
   "source": [
    "Normalize the embeddings to mitigate the influence of magnitude on similarity"
   ]
  },
  {
   "cell_type": "code",
   "execution_count": 28,
   "id": "7c1caceb",
   "metadata": {},
   "outputs": [],
   "source": [
    "product_em_tw = normalize_embedding(product_em_tw_)\n",
    "product_em_en = normalize_embedding(product_em_en_)\n",
    "des_em_tw = normalize_embedding(des_em_tw_)\n",
    "des_em_en = normalize_embedding(des_em_en_)"
   ]
  },
  {
   "cell_type": "code",
   "execution_count": 29,
   "id": "c73fe01a",
   "metadata": {},
   "outputs": [],
   "source": [
    "product_em = np.concatenate((product_em_tw, product_em_en), axis=1) * alpha[2]\n",
    "des_em = np.concatenate((des_em_tw, des_em_en), axis=1)  * alpha[3]\n",
    "text_em = np.concatenate((product_em, des_em), axis=1)"
   ]
  },
  {
   "cell_type": "markdown",
   "id": "9c728465",
   "metadata": {},
   "source": [
    "Combine category embedding and text embedding"
   ]
  },
  {
   "cell_type": "code",
   "execution_count": 30,
   "id": "dbcc19cb",
   "metadata": {},
   "outputs": [
    {
     "data": {
      "text/plain": [
       "(488, 3108)"
      ]
     },
     "execution_count": 30,
     "metadata": {},
     "output_type": "execute_result"
    }
   ],
   "source": [
    "embedding = np.concatenate((category_encode, text_em), axis=1)\n",
    "embedding.shape"
   ]
  },
  {
   "cell_type": "code",
   "execution_count": 31,
   "id": "cf6273e8",
   "metadata": {
    "scrolled": true
   },
   "outputs": [
    {
     "data": {
      "text/plain": [
       "Agritech-Other                                           129\n",
       "Agrilivestock-Other                                       50\n",
       "Labour-Saving-Machinery-and-Equipment                     40\n",
       "Livestock-Feed-and-Additives                              37\n",
       "Garden-Materials                                          29\n",
       "Sustainable-Aquatic-Products-Other                        24\n",
       "Intelligent-Detection-System-and-Equipment                23\n",
       "Ventilation-Equipment                                     21\n",
       "Organic-Fertilizer                                        15\n",
       "Agrifresh-Other                                           13\n",
       "Agricultural-Processing-Machinery                         12\n",
       "Seedlings-and-Flower-Seed                                 11\n",
       "Plant-Disease-and-Pest-Control                            11\n",
       "AIoT-Intelligent-Cold-Chain-Logistic-Solution             10\n",
       "Refrigeration-and-Freezing-Equipment                      10\n",
       "Fish-Farming-Other                                         9\n",
       "Intelligent-Temperature-Control-Technology                 8\n",
       "AIoT-Equipment-and-System                                  8\n",
       "Intelligent-Environmental-Control-Devices-and-Systems      5\n",
       "Grow-Light                                                 4\n",
       "Agricultural-Automation-Equipment                          4\n",
       "Intelligent-Irrigation-System-and-Equipment                3\n",
       "Water-Quality-Improve                                      3\n",
       "Biotechnology-Applications                                 2\n",
       "Feed-and-Feed-Additive                                     1\n",
       "Feed-Processing-Equipment-and-Testing-Equipment            1\n",
       "Organic-Waste-Disposal-Technology-and-Equipment            1\n",
       "Dehydrated-and-Pickled-Aquatic-Products                    1\n",
       "Artificial-Fog-Equipment                                   1\n",
       "Aquaculture-Technology-and-Management                      1\n",
       "Thermal-Camera                                             1\n",
       "Name: Sub_Category, dtype: int64"
      ]
     },
     "execution_count": 31,
     "metadata": {},
     "output_type": "execute_result"
    }
   ],
   "source": [
    "df['Sub_Category'].value_counts()"
   ]
  },
  {
   "cell_type": "markdown",
   "id": "07dae341",
   "metadata": {},
   "source": [
    "# Recommendation Model Building"
   ]
  },
  {
   "cell_type": "markdown",
   "id": "96c80f9a",
   "metadata": {},
   "source": [
    "## Experiment and Parameter Tuning"
   ]
  },
  {
   "cell_type": "markdown",
   "id": "a3793d39",
   "metadata": {},
   "source": [
    "Sample items in each category to evaluate"
   ]
  },
  {
   "cell_type": "code",
   "execution_count": 32,
   "id": "e0fa9ba9",
   "metadata": {},
   "outputs": [],
   "source": [
    "# idx_list = []\n",
    "# for colname in df['Sub_Category'].unique():\n",
    "#     condition = df['Sub_Category'] == colname\n",
    "#     idx = df[condition].sample(n=1).index[0]\n",
    "#     idx_list.append(idx)\n",
    "    \n",
    "# sample_df = df.iloc[idx_list].drop(columns=['Product_id','Vendor_id','Country'])"
   ]
  },
  {
   "cell_type": "markdown",
   "id": "0fdddf65",
   "metadata": {},
   "source": [
    "Use all items to evaluate"
   ]
  },
  {
   "cell_type": "code",
   "execution_count": 33,
   "id": "db4ccb8b",
   "metadata": {},
   "outputs": [],
   "source": [
    "# idx_list = np.arange(0, df.shape[0])"
   ]
  },
  {
   "cell_type": "markdown",
   "id": "7d6f7b0e",
   "metadata": {},
   "source": [
    "Recommend items by calculating the cosine similarity between the item embeddings. Output the results into a cell file and save them in an Excel file."
   ]
  },
  {
   "cell_type": "code",
   "execution_count": 34,
   "id": "85133134",
   "metadata": {},
   "outputs": [],
   "source": [
    "# output_file = './Data/Rec-Agr-{}.xlsx'.format(arr)\n",
    "# blank_row_color = 'FFFF00'  # Yellow color code\n",
    "\n",
    "# # Load the existing workbook or create a new one\n",
    "# try:\n",
    "#     workbook = openpyxl.load_workbook(output_file)\n",
    "# except FileNotFoundError:\n",
    "#     workbook = openpyxl.Workbook()\n",
    "\n",
    "# # Save the workbook\n",
    "# workbook.save(output_file)\n",
    "\n",
    "# # Get the default sheet name (usually \"Sheet1\")\n",
    "# sheet_name = workbook.sheetnames[0]\n",
    "\n",
    "# # Create a Pandas Excel writer using openpyxl engine and append mode\n",
    "# writer = pd.ExcelWriter(output_file, engine='openpyxl', mode='a')\n",
    "\n",
    "# # Assign the existing workbook to the writer\n",
    "# writer.book = workbook\n",
    "\n",
    "# # Select the default sheet\n",
    "# writer.sheets = {sheet_name: workbook[sheet_name]}\n",
    "\n",
    "# # Keep track of the row index for writing data\n",
    "# current_row = writer.sheets[sheet_name].max_row + 1\n",
    "\n",
    "# # Generate recommendations for each sample index\n",
    "# for sample_idx in idx_list:\n",
    "#     row_idx = []\n",
    "#     score_ls = []\n",
    "#     rec_k_dic = util.semantic_search(embedding[sample_idx], embedding, top_k=10)[0]\n",
    "#     for item in rec_k_dic:\n",
    "#         row_idx.append(item['corpus_id'])\n",
    "#         score_ls.append(round(item['score'],3))  \n",
    "# #     select_idx = np.insert(row_idx, 0, sample_idx) # Put the input item as a reference\n",
    "#     output_df = df.iloc[row_idx]\n",
    "#     output_df['Score'] = score_ls\n",
    "\n",
    "#     # Set the cell color for the first row behind the blank row\n",
    "#     sheet = writer.book[sheet_name]\n",
    "#     for col in range(1, len(output_df.columns) + 10):\n",
    "#         cell = sheet.cell(row=current_row + 1, column=col)\n",
    "#         cell.fill = openpyxl.styles.PatternFill(fill_type='solid', fgColor=blank_row_color)\n",
    "\n",
    "#     # Write the DataFrame to Excel\n",
    "#     output_df.to_excel(writer, sheet_name=sheet_name, startrow=current_row, index=True, header=False)\n",
    "\n",
    "#     # Update the current row index for the next set of recommendations\n",
    "#     current_row += len(output_df) + 1  # Add 1 for the blank row\n",
    "\n",
    "# # Save the Excel file\n",
    "# writer.save()\n",
    "# workbook.close()\n",
    "# writer.close()"
   ]
  },
  {
   "cell_type": "markdown",
   "id": "00b488a2",
   "metadata": {},
   "source": [
    "## Recommend Top K"
   ]
  },
  {
   "cell_type": "code",
   "execution_count": 32,
   "id": "e1171981",
   "metadata": {
    "scrolled": true
   },
   "outputs": [
    {
     "data": {
      "text/html": [
       "<div>\n",
       "<style scoped>\n",
       "    .dataframe tbody tr th:only-of-type {\n",
       "        vertical-align: middle;\n",
       "    }\n",
       "\n",
       "    .dataframe tbody tr th {\n",
       "        vertical-align: top;\n",
       "    }\n",
       "\n",
       "    .dataframe thead th {\n",
       "        text-align: right;\n",
       "    }\n",
       "</style>\n",
       "<table border=\"1\" class=\"dataframe\">\n",
       "  <thead>\n",
       "    <tr style=\"text-align: right;\">\n",
       "      <th></th>\n",
       "      <th>Product_id</th>\n",
       "      <th>Product_Name</th>\n",
       "      <th>Vendor_id</th>\n",
       "      <th>Main_Category</th>\n",
       "      <th>Sub_Category</th>\n",
       "      <th>Description</th>\n",
       "      <th>Product_Name_en</th>\n",
       "      <th>Description_en</th>\n",
       "    </tr>\n",
       "  </thead>\n",
       "  <tbody>\n",
       "    <tr>\n",
       "      <th>16</th>\n",
       "      <td>CU0009108101</td>\n",
       "      <td>霹靂穠研酒藏</td>\n",
       "      <td>CU00091081</td>\n",
       "      <td>sustainable-aquatic-products</td>\n",
       "      <td>Sustainable-Aquatic-Products-Other</td>\n",
       "      <td>興藝峰生技農業和霹靂布袋戲，在地深耕，放眼世界，均為台灣原創精神代表！ 跨界聯名推出【霹靂穠...</td>\n",
       "      <td>Pili &amp; Viachi Spirits Classics</td>\n",
       "      <td>Agri-Dragon Biotech and Pili International Mul...</td>\n",
       "    </tr>\n",
       "  </tbody>\n",
       "</table>\n",
       "</div>"
      ],
      "text/plain": [
       "      Product_id Product_Name   Vendor_id                 Main_Category  \\\n",
       "16  CU0009108101       霹靂穠研酒藏  CU00091081  sustainable-aquatic-products   \n",
       "\n",
       "                          Sub_Category  \\\n",
       "16  Sustainable-Aquatic-Products-Other   \n",
       "\n",
       "                                          Description  \\\n",
       "16  興藝峰生技農業和霹靂布袋戲，在地深耕，放眼世界，均為台灣原創精神代表！ 跨界聯名推出【霹靂穠...   \n",
       "\n",
       "                   Product_Name_en  \\\n",
       "16  Pili & Viachi Spirits Classics   \n",
       "\n",
       "                                       Description_en  \n",
       "16  Agri-Dragon Biotech and Pili International Mul...  "
      ]
     },
     "execution_count": 32,
     "metadata": {},
     "output_type": "execute_result"
    }
   ],
   "source": [
    "# product_id = 'CU0004601801' # tape\n",
    "product_id = 'CU0009108101' # alcohol\n",
    "# product_id = 'CU0004414408' # thermometer\n",
    "\n",
    "\n",
    "k = 5\n",
    "threshold = 0.75\n",
    "row_index = df[df['Product_id'] == product_id].index\n",
    "df.iloc[row_index]"
   ]
  },
  {
   "cell_type": "code",
   "execution_count": 33,
   "id": "089b89ee",
   "metadata": {},
   "outputs": [
    {
     "name": "stdout",
     "output_type": "stream",
     "text": [
      "Product_id: CU0009108102 Score: 0.811\n",
      "Product_id: CU0009108107 Score: 0.807\n",
      "Product_id: CU0009108106 Score: 0.796\n",
      "Product_id: CU0009108115 Score: 0.781\n",
      "Product_id: CU0009108109 Score: 0.78\n"
     ]
    },
    {
     "data": {
      "text/html": [
       "<div>\n",
       "<style scoped>\n",
       "    .dataframe tbody tr th:only-of-type {\n",
       "        vertical-align: middle;\n",
       "    }\n",
       "\n",
       "    .dataframe tbody tr th {\n",
       "        vertical-align: top;\n",
       "    }\n",
       "\n",
       "    .dataframe thead th {\n",
       "        text-align: right;\n",
       "    }\n",
       "</style>\n",
       "<table border=\"1\" class=\"dataframe\">\n",
       "  <thead>\n",
       "    <tr style=\"text-align: right;\">\n",
       "      <th></th>\n",
       "      <th>Product_id</th>\n",
       "      <th>Product_Name</th>\n",
       "      <th>Vendor_id</th>\n",
       "      <th>Main_Category</th>\n",
       "      <th>Sub_Category</th>\n",
       "      <th>Description</th>\n",
       "      <th>Product_Name_en</th>\n",
       "      <th>Description_en</th>\n",
       "    </tr>\n",
       "  </thead>\n",
       "  <tbody>\n",
       "    <tr>\n",
       "      <th>17</th>\n",
       "      <td>CU0009108102</td>\n",
       "      <td>時氣純韻(糙米白酒)</td>\n",
       "      <td>CU00091081</td>\n",
       "      <td>sustainable-aquatic-products</td>\n",
       "      <td>Sustainable-Aquatic-Products-Other</td>\n",
       "      <td>天癒糙米淬釀而成，純米風味，口感温順。(32%)</td>\n",
       "      <td>Viachi Spirit – Longevity (Brown Rice)</td>\n",
       "      <td>Made from Viachi brown rice, it is pleasantly ...</td>\n",
       "    </tr>\n",
       "    <tr>\n",
       "      <th>22</th>\n",
       "      <td>CU0009108107</td>\n",
       "      <td>和氣元酒(丹參)</td>\n",
       "      <td>CU00091081</td>\n",
       "      <td>sustainable-aquatic-products</td>\n",
       "      <td>Sustainable-Aquatic-Products-Other</td>\n",
       "      <td>介紹：天癒醲系列經典代表作。天癒丹參高純度產製，蔘味醇厚，豪氣順喉。鮮採後，輔以獨特製酒技術...</td>\n",
       "      <td>Viachi Spirit – The Dove (Salvia)</td>\n",
       "      <td>Introduction：\\n \\n Grown in the AgriDragon Bio...</td>\n",
       "    </tr>\n",
       "    <tr>\n",
       "      <th>21</th>\n",
       "      <td>CU0009108106</td>\n",
       "      <td>福氣永豐(葡萄酒)</td>\n",
       "      <td>CU00091081</td>\n",
       "      <td>sustainable-aquatic-products</td>\n",
       "      <td>Sustainable-Aquatic-Products-Other</td>\n",
       "      <td>天癒巨峰葡萄醇釀，濃烈豐厚，温潤純粹，值得品味珍藏。 \\n \\n 無添加人工香料及食用酒精\\...</td>\n",
       "      <td>Viachi Spirit – Abundance (Grape)</td>\n",
       "      <td>Made from healthy grapes cultivated using the ...</td>\n",
       "    </tr>\n",
       "    <tr>\n",
       "      <th>30</th>\n",
       "      <td>CU0009108115</td>\n",
       "      <td>天癒花草茶</td>\n",
       "      <td>CU00091083</td>\n",
       "      <td>sustainable-aquatic-products</td>\n",
       "      <td>Sustainable-Aquatic-Products-Other</td>\n",
       "      <td>純淨天然放鬆‧舒緩‧平和\\n 內容物：\\n 檸檬香蜂草、巧克力薄荷、綠薄荷、檸檬馬鞭草、甜菊...</td>\n",
       "      <td>Viachi Herbal Tea</td>\n",
       "      <td>100% Pure &amp; Natural\\n \\n Relaxing, Calming, an...</td>\n",
       "    </tr>\n",
       "    <tr>\n",
       "      <th>24</th>\n",
       "      <td>CU0009108109</td>\n",
       "      <td>天癒丹參勁花茶</td>\n",
       "      <td>CU00091081</td>\n",
       "      <td>sustainable-aquatic-products</td>\n",
       "      <td>Sustainable-Aquatic-Products-Other</td>\n",
       "      <td>介紹：以多項專利天癒仿生科技農法栽培之高品質原樣態素材：丹參莖、葉用枸杞、甜菊葉及馬郁蘭莖葉...</td>\n",
       "      <td>Viachi Energizing Herbal Tea</td>\n",
       "      <td>nIntroduction：\\n \\n Consisting of Salvia Milti...</td>\n",
       "    </tr>\n",
       "  </tbody>\n",
       "</table>\n",
       "</div>"
      ],
      "text/plain": [
       "      Product_id Product_Name   Vendor_id                 Main_Category  \\\n",
       "17  CU0009108102   時氣純韻(糙米白酒)  CU00091081  sustainable-aquatic-products   \n",
       "22  CU0009108107     和氣元酒(丹參)  CU00091081  sustainable-aquatic-products   \n",
       "21  CU0009108106    福氣永豐(葡萄酒)  CU00091081  sustainable-aquatic-products   \n",
       "30  CU0009108115        天癒花草茶  CU00091083  sustainable-aquatic-products   \n",
       "24  CU0009108109      天癒丹參勁花茶  CU00091081  sustainable-aquatic-products   \n",
       "\n",
       "                          Sub_Category  \\\n",
       "17  Sustainable-Aquatic-Products-Other   \n",
       "22  Sustainable-Aquatic-Products-Other   \n",
       "21  Sustainable-Aquatic-Products-Other   \n",
       "30  Sustainable-Aquatic-Products-Other   \n",
       "24  Sustainable-Aquatic-Products-Other   \n",
       "\n",
       "                                          Description  \\\n",
       "17                           天癒糙米淬釀而成，純米風味，口感温順。(32%)   \n",
       "22  介紹：天癒醲系列經典代表作。天癒丹參高純度產製，蔘味醇厚，豪氣順喉。鮮採後，輔以獨特製酒技術...   \n",
       "21  天癒巨峰葡萄醇釀，濃烈豐厚，温潤純粹，值得品味珍藏。 \\n \\n 無添加人工香料及食用酒精\\...   \n",
       "30  純淨天然放鬆‧舒緩‧平和\\n 內容物：\\n 檸檬香蜂草、巧克力薄荷、綠薄荷、檸檬馬鞭草、甜菊...   \n",
       "24  介紹：以多項專利天癒仿生科技農法栽培之高品質原樣態素材：丹參莖、葉用枸杞、甜菊葉及馬郁蘭莖葉...   \n",
       "\n",
       "                           Product_Name_en  \\\n",
       "17  Viachi Spirit – Longevity (Brown Rice)   \n",
       "22       Viachi Spirit – The Dove (Salvia)   \n",
       "21       Viachi Spirit – Abundance (Grape)   \n",
       "30                       Viachi Herbal Tea   \n",
       "24            Viachi Energizing Herbal Tea   \n",
       "\n",
       "                                       Description_en  \n",
       "17  Made from Viachi brown rice, it is pleasantly ...  \n",
       "22  Introduction：\\n \\n Grown in the AgriDragon Bio...  \n",
       "21  Made from healthy grapes cultivated using the ...  \n",
       "30  100% Pure & Natural\\n \\n Relaxing, Calming, an...  \n",
       "24  nIntroduction：\\n \\n Consisting of Salvia Milti...  "
      ]
     },
     "execution_count": 33,
     "metadata": {},
     "output_type": "execute_result"
    }
   ],
   "source": [
    "rec_pd_id_ls, rec_score_ls, rec_row_idx = recommend_top_k(product_id, k, 0.75)\n",
    "for i in range(len(rec_pd_id_ls)):\n",
    "    print('Product_id:', rec_pd_id_ls[i],'Score:', rec_score_ls[i])\n",
    "df.iloc[rec_row_idx]"
   ]
  },
  {
   "cell_type": "markdown",
   "id": "717433a0",
   "metadata": {},
   "source": [
    "# Future Development"
   ]
  },
  {
   "cell_type": "markdown",
   "id": "fba3a517",
   "metadata": {},
   "source": [
    "- How can the performance and accuracy of the recommendation model be evaluated and measured in the context of the exhibition industry, considering the absence of explicit labels?\n",
    "- Overall, the recommendations are generally accurate. However, the model occasionally generates some irrelevant items for specific products.\n"
   ]
  },
  {
   "cell_type": "markdown",
   "id": "5080b3f7",
   "metadata": {},
   "source": [
    "# Conclusions"
   ]
  },
  {
   "cell_type": "markdown",
   "id": "b0c4170c",
   "metadata": {},
   "source": [
    "The expected outcome is an item-based recommendation model for the dynamic exhibition industry that significantly enhances attendees' ability to find relevant products efficiently. By addressing the difficulties related to unsupervised learning, lack of quantitative features, and reliance on text information, the model aims to identify key product features, effectively utilize them for recommendations, and employ suitable similarity analysis techniques. Through these methods, the model strives to provide accurate and relevant recommendations, improving the overall experience for attendees."
   ]
  }
 ],
 "metadata": {
  "kernelspec": {
   "display_name": "Python 3",
   "language": "python",
   "name": "python3"
  },
  "language_info": {
   "codemirror_mode": {
    "name": "ipython",
    "version": 3
   },
   "file_extension": ".py",
   "mimetype": "text/x-python",
   "name": "python",
   "nbconvert_exporter": "python",
   "pygments_lexer": "ipython3",
   "version": "3.8.8"
  }
 },
 "nbformat": 4,
 "nbformat_minor": 5
}
