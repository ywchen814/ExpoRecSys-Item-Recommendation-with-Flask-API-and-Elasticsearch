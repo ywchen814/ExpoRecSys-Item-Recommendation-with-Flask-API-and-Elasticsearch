{
 "cells": [
  {
   "cell_type": "code",
   "execution_count": 1,
   "id": "68831694",
   "metadata": {},
   "outputs": [],
   "source": [
    "from elasticsearch import Elasticsearch\n",
    "import pickle"
   ]
  },
  {
   "cell_type": "code",
   "execution_count": 2,
   "id": "4ae95826",
   "metadata": {},
   "outputs": [],
   "source": [
    "import warnings\n",
    "\n",
    "# Ignore all warnings (not recommended in most cases)\n",
    "warnings.filterwarnings(\"ignore\")"
   ]
  },
  {
   "cell_type": "code",
   "execution_count": 5,
   "id": "384e48db",
   "metadata": {},
   "outputs": [],
   "source": [
    "ELASTIC_PASSWORD = \"RgPL5UEnWEbIr+9oJ8J-\""
   ]
  },
  {
   "cell_type": "code",
   "execution_count": 8,
   "id": "16baec6b",
   "metadata": {},
   "outputs": [
    {
     "data": {
      "text/plain": [
       "ObjectApiResponse({'name': '163dd7feee2c', 'cluster_name': 'docker-cluster', 'cluster_uuid': 'qiPQpuGBSwGK5RW2XA7YHw', 'version': {'number': '8.8.2', 'build_flavor': 'default', 'build_type': 'docker', 'build_hash': '98e1271edf932a480e4262a471281f1ee295ce6b', 'build_date': '2023-06-26T05:16:16.196344851Z', 'build_snapshot': False, 'lucene_version': '9.6.0', 'minimum_wire_compatibility_version': '7.17.0', 'minimum_index_compatibility_version': '7.0.0'}, 'tagline': 'You Know, for Search'})"
      ]
     },
     "execution_count": 8,
     "metadata": {},
     "output_type": "execute_result"
    }
   ],
   "source": [
    "es = Elasticsearch(\n",
    "    \"https://localhost:9200\",\n",
    "    ca_certs=\"./http_ca.crt\",\n",
    "    basic_auth=(\"elastic\", ELASTIC_PASSWORD)\n",
    ")\n",
    "resp = es.info()\n",
    "resp"
   ]
  },
  {
   "cell_type": "markdown",
   "id": "0e8cde09",
   "metadata": {},
   "source": [
    "## Connect to Elasticsearch"
   ]
  },
  {
   "cell_type": "code",
   "execution_count": 9,
   "id": "1a6537ea",
   "metadata": {},
   "outputs": [],
   "source": [
    "file_name = '.\\Data\\df_dict.pkl'\n",
    "with open(file_name, \"rb\") as file:\n",
    "    df_dict = pickle.load(file)"
   ]
  },
  {
   "cell_type": "markdown",
   "id": "3174a3b4",
   "metadata": {},
   "source": [
    "## Store the data to the elasticsearch"
   ]
  },
  {
   "cell_type": "code",
   "execution_count": 10,
   "id": "0cf29c1f",
   "metadata": {},
   "outputs": [],
   "source": [
    "index_name = 'products'"
   ]
  },
  {
   "cell_type": "code",
   "execution_count": 11,
   "id": "37b97c70",
   "metadata": {},
   "outputs": [],
   "source": [
    "# for i, product in enumerate(df_dict):\n",
    "#     es.index(index=index_name, id = product['Product_id'], body=product)"
   ]
  },
  {
   "cell_type": "markdown",
   "id": "8af8d788",
   "metadata": {},
   "source": [
    "## Define the count query to get the total number of documents in the index"
   ]
  },
  {
   "cell_type": "code",
   "execution_count": 12,
   "id": "120b6713",
   "metadata": {},
   "outputs": [
    {
     "name": "stdout",
     "output_type": "stream",
     "text": [
      "Total number of documents in the index 'products': 488\n"
     ]
    }
   ],
   "source": [
    "count_query = {\n",
    "    \"query\": {\n",
    "        \"match_all\": {}\n",
    "    }\n",
    "}\n",
    "\n",
    "# Perform the count query\n",
    "response = es.count(index=index_name, body=count_query)\n",
    "\n",
    "# Extract the total count of documents\n",
    "total_documents = response['count']\n",
    "\n",
    "print(f\"Total number of documents in the index '{index_name}': {total_documents}\")"
   ]
  },
  {
   "cell_type": "markdown",
   "id": "a3f3978c",
   "metadata": {},
   "source": [
    "## Recommend products by similarity search with keywords"
   ]
  },
  {
   "cell_type": "code",
   "execution_count": 33,
   "id": "184807de",
   "metadata": {},
   "outputs": [],
   "source": [
    "def recommend_products(keywords, num_results=5):\n",
    "    res = es.search(\n",
    "        index=\"products\",\n",
    "        body={\n",
    "            \"query\": {\n",
    "                \"multi_match\": {\n",
    "                    \"query\": keywords,\n",
    "                    \"fields\": ['Product_Name', 'Product_Name_en', 'Description', 'Description_en'],\n",
    "                    \"type\": \"cross_fields\",\n",
    "                    \"operator\": \"or\"\n",
    "                }\n",
    "            },\n",
    "            \"size\": num_results\n",
    "        }\n",
    "    )\n",
    "\n",
    "    recommendations = []\n",
    "    for hit in res['hits']['hits']:\n",
    "        recommendations.append(hit['_source']['Product_Name_en'])\n",
    "\n",
    "    return recommendations"
   ]
  },
  {
   "cell_type": "code",
   "execution_count": 36,
   "id": "17094207",
   "metadata": {},
   "outputs": [
    {
     "data": {
      "text/plain": [
       "['PVC pear tape',\n",
       " 'PVC pear tape',\n",
       " 'C biodegradable tape',\n",
       " 'PE repair tape',\n",
       " 'Recycled PET Tape']"
      ]
     },
     "execution_count": 36,
     "metadata": {},
     "output_type": "execute_result"
    }
   ],
   "source": [
    "recommend_products('tape')"
   ]
  },
  {
   "cell_type": "markdown",
   "id": "55ca673a",
   "metadata": {},
   "source": [
    "## Send the DELETE request to delete the entire index"
   ]
  },
  {
   "cell_type": "code",
   "execution_count": null,
   "id": "99a80450",
   "metadata": {},
   "outputs": [],
   "source": [
    "# response = es.indices.delete(index=index_name)\n",
    "\n",
    "# # Check if the operation was successful\n",
    "# if response[\"acknowledged\"]:\n",
    "#     print(f\"The index '{index_name}' has been deleted.\")\n",
    "# else:\n",
    "#     print(f\"Failed to delete the index '{index_name}'.\")"
   ]
  }
 ],
 "metadata": {
  "kernelspec": {
   "display_name": "Python 3",
   "language": "python",
   "name": "python3"
  },
  "language_info": {
   "codemirror_mode": {
    "name": "ipython",
    "version": 3
   },
   "file_extension": ".py",
   "mimetype": "text/x-python",
   "name": "python",
   "nbconvert_exporter": "python",
   "pygments_lexer": "ipython3",
   "version": "3.8.8"
  }
 },
 "nbformat": 4,
 "nbformat_minor": 5
}
